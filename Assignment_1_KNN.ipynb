{
  "nbformat": 4,
  "nbformat_minor": 0,
  "metadata": {
    "colab": {
      "provenance": [],
      "authorship_tag": "ABX9TyNAdj79hbEZX5jcx60tgq5k"
    },
    "kernelspec": {
      "name": "python3",
      "display_name": "Python 3"
    },
    "language_info": {
      "name": "python"
    }
  },
  "cells": [
    {
      "cell_type": "code",
      "execution_count": 1,
      "metadata": {
        "id": "YRiEg8OFitk5",
        "colab": {
          "base_uri": "https://localhost:8080/"
        },
        "outputId": "85677ab0-5ebc-4f67-e6a6-04f64d707602"
      },
      "outputs": [
        {
          "output_type": "stream",
          "name": "stdout",
          "text": [
            "Cloning into 'CIFAR-10-images'...\n",
            "remote: Enumerating objects: 60027, done.\u001b[K\n",
            "remote: Total 60027 (delta 0), reused 0 (delta 0), pack-reused 60027\u001b[K\n",
            "Receiving objects: 100% (60027/60027), 19.94 MiB | 12.08 MiB/s, done.\n",
            "Resolving deltas: 100% (59990/59990), done.\n",
            "Updating files: 100% (60001/60001), done.\n"
          ]
        }
      ],
      "source": [
        "\n",
        "!git clone https://github.com/YoongiKim/CIFAR-10-images"
      ]
    },
    {
      "cell_type": "code",
      "source": [
        "import os\n",
        "import cv2\n",
        "import matplotlib.pyplot as plt\n",
        "import numpy as np\n",
        "import random\n",
        "from sklearn.model_selection import KFold\n",
        "from scipy import stats\n",
        "from tqdm import tqdm"
      ],
      "metadata": {
        "id": "BF6B69R_oFiE"
      },
      "execution_count": 38,
      "outputs": []
    },
    {
      "cell_type": "code",
      "source": [
        "TRAIN_DIR='/content/CIFAR-10-images/test'\n",
        "TRAIN_DATA=[]"
      ],
      "metadata": {
        "id": "Xa_0P79_GmMH"
      },
      "execution_count": 50,
      "outputs": []
    },
    {
      "cell_type": "code",
      "source": [
        "CATEGORIES = [category for category in os.listdir(TRAIN_DIR) if os.path.isdir(os.path.join(TRAIN_DIR, category))]\n"
      ],
      "metadata": {
        "id": "gqmLukX1IYB3"
      },
      "execution_count": 56,
      "outputs": []
    },
    {
      "cell_type": "code",
      "source": [
        "\n",
        "images_by_category = {category: [] for category in CATEGORIES}\n",
        "for image, class_num, category_name in TRAIN_DATA:\n",
        "    images_by_category[category_name].append(image)\n",
        "\n",
        "\n",
        "for category_name, images in images_by_category.items():\n",
        "    print(f\"{category_name} -\")\n",
        "    for _ in tqdm(images, total=len(images)):\n",
        "        pass\n"
      ],
      "metadata": {
        "colab": {
          "base_uri": "https://localhost:8080/"
        },
        "id": "-xAOW2pPHg0P",
        "outputId": "9659fdd4-232b-469e-bc95-fb8c057dd4b3"
      },
      "execution_count": 36,
      "outputs": [
        {
          "output_type": "stream",
          "name": "stdout",
          "text": [
            "horse -\n"
          ]
        },
        {
          "output_type": "stream",
          "name": "stderr",
          "text": [
            "100%|██████████| 1000/1000 [00:00<00:00, 1169959.27it/s]\n"
          ]
        },
        {
          "output_type": "stream",
          "name": "stdout",
          "text": [
            "ship -\n"
          ]
        },
        {
          "output_type": "stream",
          "name": "stderr",
          "text": [
            "100%|██████████| 1000/1000 [00:00<00:00, 894307.89it/s]\n"
          ]
        },
        {
          "output_type": "stream",
          "name": "stdout",
          "text": [
            "frog -\n"
          ]
        },
        {
          "output_type": "stream",
          "name": "stderr",
          "text": [
            "100%|██████████| 1000/1000 [00:00<00:00, 1267544.27it/s]\n"
          ]
        },
        {
          "output_type": "stream",
          "name": "stdout",
          "text": [
            "cat -\n"
          ]
        },
        {
          "output_type": "stream",
          "name": "stderr",
          "text": [
            "100%|██████████| 1000/1000 [00:00<00:00, 1003902.35it/s]\n"
          ]
        },
        {
          "output_type": "stream",
          "name": "stdout",
          "text": [
            "automobile -\n"
          ]
        },
        {
          "output_type": "stream",
          "name": "stderr",
          "text": [
            "100%|██████████| 1000/1000 [00:00<00:00, 1508742.45it/s]\n"
          ]
        },
        {
          "output_type": "stream",
          "name": "stdout",
          "text": [
            "dog -\n"
          ]
        },
        {
          "output_type": "stream",
          "name": "stderr",
          "text": [
            "100%|██████████| 1000/1000 [00:00<00:00, 839196.48it/s]\n"
          ]
        },
        {
          "output_type": "stream",
          "name": "stdout",
          "text": [
            "bird -\n"
          ]
        },
        {
          "output_type": "stream",
          "name": "stderr",
          "text": [
            "100%|██████████| 1000/1000 [00:00<00:00, 844944.40it/s]\n"
          ]
        },
        {
          "output_type": "stream",
          "name": "stdout",
          "text": [
            "deer -\n"
          ]
        },
        {
          "output_type": "stream",
          "name": "stderr",
          "text": [
            "100%|██████████| 1000/1000 [00:00<00:00, 791378.11it/s]\n"
          ]
        },
        {
          "output_type": "stream",
          "name": "stdout",
          "text": [
            "truck -\n"
          ]
        },
        {
          "output_type": "stream",
          "name": "stderr",
          "text": [
            "100%|██████████| 1000/1000 [00:00<00:00, 1407957.03it/s]\n"
          ]
        },
        {
          "output_type": "stream",
          "name": "stdout",
          "text": [
            "airplane -\n"
          ]
        },
        {
          "output_type": "stream",
          "name": "stderr",
          "text": [
            "100%|██████████| 1000/1000 [00:00<00:00, 1594186.24it/s]\n"
          ]
        }
      ]
    },
    {
      "cell_type": "code",
      "source": [
        "random.shuffle(train_img)"
      ],
      "metadata": {
        "id": "FSn5fktcH8Jn"
      },
      "execution_count": 44,
      "outputs": []
    },
    {
      "cell_type": "code",
      "source": [
        "KFactor = [0.25, 0.5, 1, 2, 4]\n",
        "kf = KFold(n_splits=5, random_state=None, shuffle=False)\n",
        "k_values = [int(np.sqrt(len(train_img)) * k) for k in KFactor]\n"
      ],
      "metadata": {
        "id": "wPROY1W3TMVL"
      },
      "execution_count": 39,
      "outputs": []
    },
    {
      "cell_type": "code",
      "source": [
        "accuracy = np.zeros((2, len(k_values), kf.get_n_splits()), dtype=int)\n"
      ],
      "metadata": {
        "id": "gdN2HKljUvMi"
      },
      "execution_count": 40,
      "outputs": []
    },
    {
      "cell_type": "code",
      "source": [
        "kf = KFold(n_splits=5, shuffle=True, random_state=None)\n",
        "\n",
        "KFactor = [0.25, 0.5, 1, 2, 4]\n",
        "k_values = [int(np.sqrt(len(train_img)) * k) for k in KFactor]\n",
        "\n",
        "accuracy = np.zeros((2, len(k_values), kf.get_n_splits()), dtype=int)\n",
        "\n",
        "if len(train_img) == 0:\n",
        "    print(\"The training dataset is empty. Please load or prepare your dataset.\")\n",
        "else:\n",
        "    for i, (train_index, test_index) in enumerate(kf.split(train_img)):\n",
        "        for x in tqdm(test_index):\n",
        "            r = []\n",
        "            testData, true_label = train_img[x]\n",
        "            l1 = []\n",
        "            l2 = []\n",
        "            for y in train_index:\n",
        "                trainData, train_label = train_img[y]\n",
        "                d = np.sum(np.abs(testData - trainData))\n",
        "                l1.append(d)\n",
        "                d = np.sqrt(np.sum((testData - trainData) ** 2))\n",
        "                l2.append(d)\n",
        "            l1_i = np.argsort(l1)\n",
        "            l2_i = np.argsort(l2)\n",
        "            for k in k_values:\n",
        "                comp = []\n",
        "                for j in l1_i[:k]:\n",
        "                    comp.append(train_img[j][1])\n",
        "                if stats.mode(comp)[0][0] == true_label:\n",
        "                    accuracy[0][k_values.index(k)][i] += 1\n",
        "                comp = []\n",
        "                for j in l2_i[:k]:\n",
        "                    comp.append(train_img[j][1])\n",
        "                if stats.mode(comp)[0][0] == true_label:\n",
        "                    accuracy[1][k_values.index(k)][i] += 1\n",
        "\n",
        "# Print accuracy results\n",
        "print(\"Accuracy (Manhattan - L1):\")\n",
        "print(accuracy[0])\n",
        "\n",
        "print(\"Accuracy (Euclidean - L2):\")\n",
        "print(accuracy[1])\n"
      ],
      "metadata": {
        "id": "T0LvbbfGUy5v"
      },
      "execution_count": null,
      "outputs": []
    },
    {
      "cell_type": "code",
      "source": [
        "plt.figure()\n",
        "plt.errorbar(k_values, L1_acc[0], L1_acc[1])\n",
        "plt.errorbar(k_values, L2_acc[0], L2_acc[1])\n",
        "plt.legend(['Manhattan (L1)','Euclidean (L2)'])\n",
        "plt.xlabel('K')\n",
        "plt.ylabel('Accuracy (in Percentage)')\n",
        "plt.title('Impact of Different Values of K')\n",
        "\n",
        "plt.show()"
      ],
      "metadata": {
        "id": "PQbh7CFVXm8T"
      },
      "execution_count": null,
      "outputs": []
    },
    {
      "cell_type": "code",
      "source": [],
      "metadata": {
        "id": "EPrwrQXhVUJA"
      },
      "execution_count": null,
      "outputs": []
    }
  ]
}